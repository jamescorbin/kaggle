{
 "cells": [
  {
   "cell_type": "code",
   "execution_count": 1,
   "metadata": {},
   "outputs": [],
   "source": [
    "import numpy as np\n",
    "import pandas as pd\n",
    "import sklearn.linear_model\n",
    "\n",
    "DIM = 3"
   ]
  },
  {
   "cell_type": "code",
   "execution_count": 2,
   "metadata": {},
   "outputs": [],
   "source": [
    "pd.options.mode.chained_assignment = None\n",
    "pd.set_option('display.max_rows', 500)\n",
    "pd.set_option('display.max_columns', None)"
   ]
  },
  {
   "cell_type": "code",
   "execution_count": 3,
   "metadata": {},
   "outputs": [],
   "source": [
    "import enum\n",
    "\n",
    "class RPS(enum.Enum):\n",
    "    ROCK = 0\n",
    "    SCISSORS = 1\n",
    "    PAPER = 2"
   ]
  },
  {
   "cell_type": "code",
   "execution_count": 4,
   "metadata": {},
   "outputs": [],
   "source": [
    "Id = np.diag(np.ones(DIM, dtype=int))"
   ]
  },
  {
   "cell_type": "code",
   "execution_count": 5,
   "metadata": {},
   "outputs": [],
   "source": [
    "acts = np.random.randint(DIM, size=(10))"
   ]
  },
  {
   "cell_type": "code",
   "execution_count": 6,
   "metadata": {},
   "outputs": [],
   "source": [
    "from functools import wraps\n",
    "\n",
    "def vectorize(f):\n",
    "    @wraps(f)\n",
    "    def wrapper_f(*args, **kwargs):\n",
    "        val = next(f(*args, **kwargs))\n",
    "        return Id[val]\n",
    "    return wrapper_f"
   ]
  },
  {
   "cell_type": "code",
   "execution_count": 7,
   "metadata": {},
   "outputs": [],
   "source": [
    "class MarkovStrategy():\n",
    "\n",
    "    def __init__(self):\n",
    "        self.p = 2\n",
    "        self.mem = [np.random.randint(DIM) for _ in range(self.p)]\n",
    "        self.C = np.random.normal(size=(self.p, DIM, DIM))\n",
    "\n",
    "    def gen(self):\n",
    "        while True:\n",
    "            xt = np.array([Id[x] for x in reversed(self.mem[-self.p:])])\n",
    "            x_f = (np.tensordot(xt, self.C, axes=([0, 1], [0, 1]))\n",
    "               + np.random.normal(size=(DIM))\n",
    "            )\n",
    "            t = np.argmax(x_f)\n",
    "            self.mem.append(t)\n",
    "            return t"
   ]
  },
  {
   "cell_type": "code",
   "execution_count": 8,
   "metadata": {},
   "outputs": [],
   "source": [
    "def Rock():\n",
    "    yield RPS.ROCK.value\n",
    "\n",
    "def Scissors():\n",
    "    yield RPS.SCISSORS.value\n",
    "    \n",
    "def Paper():\n",
    "    yield RPS.PAPER.value\n",
    "    \n",
    "x = [np.random.randint(DIM)]\n",
    "def Forward():\n",
    "    while True:\n",
    "        act = (x[-1] + 1) % DIM\n",
    "        x.append(act)\n",
    "        yield act\n",
    "    \n",
    "y = [np.random.randint(DIM)]\n",
    "def Backward():\n",
    "    while True:\n",
    "        act = (x[-1] - 1) % DIM\n",
    "        x.append(act)\n",
    "        yield act    \n",
    "    \n",
    "strat = MarkovStrategy()"
   ]
  },
  {
   "cell_type": "code",
   "execution_count": 9,
   "metadata": {},
   "outputs": [],
   "source": [
    "runs = 1000\n",
    "df_X = pd.DataFrame([strat.gen() for _ in range(runs)], columns=[\"RPS\"])\n",
    "                    #columns={RPS.ROCK.name, RPS.SCISSORS.name, RPS.PAPER.name})"
   ]
  },
  {
   "cell_type": "code",
   "execution_count": 10,
   "metadata": {},
   "outputs": [
    {
     "data": {
      "text/plain": [
       "(1000, 1)"
      ]
     },
     "execution_count": 10,
     "metadata": {},
     "output_type": "execute_result"
    }
   ],
   "source": [
    "df_X.shape"
   ]
  },
  {
   "cell_type": "code",
   "execution_count": 11,
   "metadata": {},
   "outputs": [
    {
     "name": "stdout",
     "output_type": "stream",
     "text": [
      "(3, 1)\n"
     ]
    }
   ],
   "source": [
    "look_back = 3\n",
    "tmp = []\n",
    "#enum_type = [\"ROCK\", \"PAPER\", \"SCISSORS\"]\n",
    "enum_type = [\"RPS\"]\n",
    "pad = pd.DataFrame([np.random.randint(DIM) for _ in range(look_back)], columns=[\"RPS\"])\n",
    "print(pad.shape)\n",
    "df_X = pd.concat([pad, df_X], ignore_index=True)\n",
    "for i in range(1, look_back+1):\n",
    "    tmp.append(df_X.shift(periods=i).rename({x: f\"{x}_{i}\" for x in enum_type}, axis=1))\n",
    "df_X = df_X.join(tmp)\n",
    "#df_X = df_X.fillna(method=\"backfill\")\n",
    "df_X = df_X.dropna()"
   ]
  },
  {
   "cell_type": "code",
   "execution_count": 12,
   "metadata": {},
   "outputs": [
    {
     "data": {
      "text/plain": [
       "(1000, 4)"
      ]
     },
     "execution_count": 12,
     "metadata": {},
     "output_type": "execute_result"
    }
   ],
   "source": [
    "df_X.shape"
   ]
  },
  {
   "cell_type": "code",
   "execution_count": 13,
   "metadata": {},
   "outputs": [],
   "source": [
    "x_cols = [x for x in df_X.columns if x not in enum_type]\n",
    "Y = df_X[enum_type].values.reshape(-1)\n",
    "X = df_X[x_cols].values\n",
    "\n",
    "sim = []\n",
    "memory = 100\n",
    "\n",
    "for i in range(0, Y.shape[0]):\n",
    "    if i ==0:\n",
    "        sim.append((Y[0], np.random.randint(DIM)))\n",
    "    elif np.all(Y[:i]==Y[0]):\n",
    "        sim.append((Y[i-1], Y[i-1]))\n",
    "    else:\n",
    "        reg = sklearn.linear_model.LogisticRegression(multi_class=\"multinomial\")\n",
    "        lb = i - memory if i >= memory else 0\n",
    "        reg.fit(X[lb:i], Y[lb:i])\n",
    "        sim.append((Y[i], reg.predict([X[i]])[0]))\n",
    "    \n",
    "df = pd.DataFrame(sim, columns={\"Opp\", \"Mod\"})"
   ]
  },
  {
   "cell_type": "code",
   "execution_count": 14,
   "metadata": {},
   "outputs": [],
   "source": [
    "opp = \"Opp\"\n",
    "mod = \"Mod\"\n",
    "df[\"Win\"] = df[opp]==df[mod]\n",
    "df[\"Tie\"] = (df[opp]+1)%DIM==df[mod]\n",
    "df[\"Lose\"] = (df[opp]-1)%DIM==df[mod]"
   ]
  },
  {
   "cell_type": "code",
   "execution_count": 15,
   "metadata": {},
   "outputs": [
    {
     "data": {
      "text/plain": [
       "(680, 193, 127)"
      ]
     },
     "execution_count": 15,
     "metadata": {},
     "output_type": "execute_result"
    }
   ],
   "source": [
    "df[\"Win\"].sum(), df[\"Lose\"].sum(), df[\"Tie\"].sum()"
   ]
  },
  {
   "cell_type": "code",
   "execution_count": 16,
   "metadata": {},
   "outputs": [
    {
     "data": {
      "text/plain": [
       "array([[-0.53436842, -0.60547671, -0.02715848],\n",
       "       [-0.21774821,  0.55974916,  0.49805486],\n",
       "       [ 0.75211662,  0.04572755, -0.47089638]])"
      ]
     },
     "execution_count": 16,
     "metadata": {},
     "output_type": "execute_result"
    }
   ],
   "source": [
    "reg.coef_"
   ]
  },
  {
   "cell_type": "code",
   "execution_count": 17,
   "metadata": {},
   "outputs": [
    {
     "data": {
      "text/plain": [
       "0.69"
      ]
     },
     "execution_count": 17,
     "metadata": {},
     "output_type": "execute_result"
    }
   ],
   "source": [
    "reg.score(X, Y)"
   ]
  },
  {
   "cell_type": "code",
   "execution_count": 19,
   "metadata": {},
   "outputs": [
    {
     "data": {
      "text/plain": [
       "array([[0.57409571, 0.03139557, 0.39450872],\n",
       "       [0.40107893, 0.07033396, 0.52858711],\n",
       "       [0.46682671, 0.1384166 , 0.39475669],\n",
       "       ...,\n",
       "       [0.81322448, 0.03240321, 0.15437231],\n",
       "       [0.81322448, 0.03240321, 0.15437231],\n",
       "       [0.81322448, 0.03240321, 0.15437231]])"
      ]
     },
     "execution_count": 19,
     "metadata": {},
     "output_type": "execute_result"
    }
   ],
   "source": [
    "reg.predict_proba(X)"
   ]
  },
  {
   "cell_type": "code",
   "execution_count": null,
   "metadata": {},
   "outputs": [],
   "source": [
    "class AutoRegressiveDecision():\n",
    "    \"\"\"\n",
    "    Uses time series autoregressive model to reactively\n",
    "    choose output.\n",
    "    \"\"\"\n",
    "    def __init__(self, p=2, memory_buffer=50):\n",
    "        \"\"\"\n",
    "        p\n",
    "        \"\"\"\n",
    "        self.memory = [np.random.randint(DIM) for _ in range(p)]\n",
    "\n",
    "def main(observation, configuration):"
   ]
  }
 ],
 "metadata": {
  "kernelspec": {
   "display_name": "py3.8",
   "language": "python",
   "name": "py3.8"
  },
  "language_info": {
   "codemirror_mode": {
    "name": "ipython",
    "version": 3
   },
   "file_extension": ".py",
   "mimetype": "text/x-python",
   "name": "python",
   "nbconvert_exporter": "python",
   "pygments_lexer": "ipython3",
   "version": "3.8.0"
  }
 },
 "nbformat": 4,
 "nbformat_minor": 4
}
